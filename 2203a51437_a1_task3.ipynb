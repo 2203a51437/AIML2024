{
  "nbformat": 4,
  "nbformat_minor": 0,
  "metadata": {
    "colab": {
      "provenance": []
    },
    "kernelspec": {
      "name": "python3",
      "display_name": "Python 3"
    },
    "language_info": {
      "name": "python"
    }
  },
  "cells": [
    {
      "cell_type": "code",
      "execution_count": 1,
      "metadata": {
        "colab": {
          "base_uri": "https://localhost:8080/"
        },
        "id": "9m0Zy18Uu-6l",
        "outputId": "8950a25b-247f-4e61-f008-c392cc23c44c"
      },
      "outputs": [
        {
          "output_type": "stream",
          "name": "stdout",
          "text": [
            "   age  height\n",
            "0   12     115\n",
            "1   13     130\n",
            "2   46     167\n",
            "3   20     145\n",
            "4   34     153\n"
          ]
        }
      ],
      "source": [
        "import pandas as pd\n",
        "df_tsv = pd.read_csv('/content/2203A51437 - Sheet1.tsv', sep='\\t')\n",
        "print(df_tsv)"
      ]
    },
    {
      "cell_type": "code",
      "source": [
        "df_csv = pd.read_csv('/content/2203A51437- Sheet1.csv')\n",
        "print(df_csv)"
      ],
      "metadata": {
        "colab": {
          "base_uri": "https://localhost:8080/"
        },
        "id": "e9-P0IujvlNX",
        "outputId": "8c82bd5f-8574-4d21-e095-c7757347218e"
      },
      "execution_count": 2,
      "outputs": [
        {
          "output_type": "stream",
          "name": "stdout",
          "text": [
            "   age  height\n",
            "0   15     115\n",
            "1   18     130\n",
            "2   35     167\n",
            "3   23     145\n",
            "4   34     153\n"
          ]
        }
      ]
    },
    {
      "cell_type": "code",
      "source": [
        "df_xlsx = pd.read_excel(\"/content/2203A51437.xlsx\")\n",
        "print(df_xlsx)"
      ],
      "metadata": {
        "colab": {
          "base_uri": "https://localhost:8080/"
        },
        "id": "ZicxbPlKvwcY",
        "outputId": "5710d0d3-dd5e-4fd7-ef58-a90e3847251d"
      },
      "execution_count": 3,
      "outputs": [
        {
          "output_type": "stream",
          "name": "stdout",
          "text": [
            "   age  height\n",
            "0   12     115\n",
            "1   13     130\n",
            "2   46     167\n",
            "3   20     145\n",
            "4   34     153\n"
          ]
        }
      ]
    },
    {
      "cell_type": "code",
      "source": [
        "url = \"https://github.com/shravyapendota/AIML_TASK3.git\"\n",
        "df_url = pd.read_csv(url,'\\t')\n",
        "print(df_url)"
      ],
      "metadata": {
        "colab": {
          "base_uri": "https://localhost:8080/"
        },
        "id": "_pqmD4YTv9iF",
        "outputId": "8fcf6fc1-93c2-42e7-bbf4-e23246582ba9"
      },
      "execution_count": 4,
      "outputs": [
        {
          "output_type": "stream",
          "name": "stderr",
          "text": [
            "<ipython-input-4-c726e0f1b928>:2: FutureWarning: In a future version of pandas all arguments of read_csv except for the argument 'filepath_or_buffer' will be keyword-only.\n",
            "  df_url = pd.read_csv(url,'\\t')\n"
          ]
        },
        {
          "output_type": "stream",
          "name": "stdout",
          "text": [
            "                                        <!DOCTYPE html>\n",
            "0                                                 <html\n",
            "1                                             lang=\"en\"\n",
            "2       data-color-mode=\"auto\" data-light-theme=\"lig...\n",
            "3       data-a11y-animated-images=\"system\" data-a11y...\n",
            "4                                                     >\n",
            "...                                                 ...\n",
            "1260                                             </div>\n",
            "1261      <div id=\"js-global-screen-reader-notice\" c...\n",
            "1262      <div id=\"js-global-screen-reader-notice-as...\n",
            "1263                                            </body>\n",
            "1264                                            </html>\n",
            "\n",
            "[1265 rows x 1 columns]\n"
          ]
        }
      ]
    }
  ]
}